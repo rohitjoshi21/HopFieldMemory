{
 "cells": [
  {
   "cell_type": "code",
   "execution_count": 1,
   "id": "46da61a7",
   "metadata": {},
   "outputs": [],
   "source": [
    "import numpy as np"
   ]
  },
  {
   "cell_type": "code",
   "execution_count": 5,
   "id": "2c8e6135",
   "metadata": {},
   "outputs": [],
   "source": [
    "a = np.asarray([[1,2,3],[4,5,list]])"
   ]
  },
  {
   "cell_type": "code",
   "execution_count": 6,
   "id": "71e515f9",
   "metadata": {},
   "outputs": [
    {
     "data": {
      "text/plain": [
       "array([1, 2, 3, 4, 5, <class 'list'>], dtype=object)"
      ]
     },
     "execution_count": 6,
     "metadata": {},
     "output_type": "execute_result"
    }
   ],
   "source": [
    "a.flatten()"
   ]
  },
  {
   "cell_type": "code",
   "execution_count": 8,
   "id": "b127db61",
   "metadata": {},
   "outputs": [],
   "source": [
    "a = np.arange(5) - 3"
   ]
  },
  {
   "cell_type": "code",
   "execution_count": 9,
   "id": "10580be9",
   "metadata": {},
   "outputs": [
    {
     "data": {
      "text/plain": [
       "array([3, 2, 1, 0, 1])"
      ]
     },
     "execution_count": 9,
     "metadata": {},
     "output_type": "execute_result"
    }
   ],
   "source": [
    "abs(a)"
   ]
  },
  {
   "cell_type": "code",
   "execution_count": 18,
   "id": "7bf4c134",
   "metadata": {},
   "outputs": [
    {
     "data": {
      "text/plain": [
       "array([11, 11, 12])"
      ]
     },
     "execution_count": 18,
     "metadata": {},
     "output_type": "execute_result"
    }
   ],
   "source": [
    "np.arange(25).reshape(5,5)[2,[1,1,2]]"
   ]
  },
  {
   "cell_type": "code",
   "execution_count": 17,
   "id": "a84f5cc3",
   "metadata": {},
   "outputs": [
    {
     "data": {
      "text/plain": [
       "array([[ 0,  1,  2,  3,  4],\n",
       "       [ 5,  6,  7,  8,  9],\n",
       "       [10, 11, 12, 13, 14],\n",
       "       [15, 16, 17, 18, 19],\n",
       "       [20, 21, 22, 23, 24]])"
      ]
     },
     "execution_count": 17,
     "metadata": {},
     "output_type": "execute_result"
    }
   ],
   "source": [
    "np.arange(25).reshape(5,5)"
   ]
  },
  {
   "cell_type": "code",
   "execution_count": 19,
   "id": "5e77de1d",
   "metadata": {},
   "outputs": [
    {
     "name": "stdout",
     "output_type": "stream",
     "text": [
      "[0 1 2 3 4 5 6 7 8 9]\n",
      "[1 0 1 2 3 4 5 6 7 8]\n",
      "[2 1 0 1 2 3 4 5 6 7]\n",
      "[3 2 1 0 1 2 3 4 5 6]\n",
      "[4 3 2 1 0 1 2 3 4 5]\n",
      "[5 4 3 2 1 0 1 2 3 4]\n",
      "[6 5 4 3 2 1 0 1 2 3]\n",
      "[7 6 5 4 3 2 1 0 1 2]\n",
      "[8 7 6 5 4 3 2 1 0 1]\n",
      "[9 8 7 6 5 4 3 2 1 0]\n"
     ]
    }
   ],
   "source": [
    "for i in range(10):\n",
    "    print(abs(np.arange(10)-i))"
   ]
  },
  {
   "cell_type": "code",
   "execution_count": null,
   "id": "1039244c",
   "metadata": {},
   "outputs": [],
   "source": []
  }
 ],
 "metadata": {
  "kernelspec": {
   "display_name": "Python 3 (ipykernel)",
   "language": "python",
   "name": "python3"
  },
  "language_info": {
   "codemirror_mode": {
    "name": "ipython",
    "version": 3
   },
   "file_extension": ".py",
   "mimetype": "text/x-python",
   "name": "python",
   "nbconvert_exporter": "python",
   "pygments_lexer": "ipython3",
   "version": "3.10.12"
  }
 },
 "nbformat": 4,
 "nbformat_minor": 5
}
